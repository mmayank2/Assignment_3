{
 "cells": [
  {
   "cell_type": "markdown",
   "id": "806a7c05-9e9e-4046-adea-4a619fe58a23",
   "metadata": {},
   "source": [
    "<center><b><u><font color=\"yellow\" size=100>Assignment</font> </u></b> </center>"
   ]
  },
  {
   "cell_type": "markdown",
   "id": "7792bb83-3b8b-4a3b-a662-ca870cfa4641",
   "metadata": {},
   "source": [
    "<font color=\"red\">Q1. Which keyword is used to create a function? Create a function to return a list of odd numbers in the \n",
    "range of 1 to 25.</font>"
   ]
  },
  {
   "cell_type": "markdown",
   "id": "e96cbf64-4f8f-47c3-be05-482ec5077dd3",
   "metadata": {},
   "source": [
    "<font color=\"yellow\">Answer :-</font>"
   ]
  },
  {
   "cell_type": "markdown",
   "id": "5ebf3b0a-6e9e-43be-846c-dbcdf16be582",
   "metadata": {},
   "source": [
    "def keyword is used to create a function."
   ]
  },
  {
   "cell_type": "code",
   "execution_count": 25,
   "id": "f3aeab29-7222-4ec5-bf66-8a98edfca5c9",
   "metadata": {},
   "outputs": [],
   "source": [
    "def odd_number(s,l):\n",
    "    l1=[]\n",
    "    for i in range(s,l+1):\n",
    "        if i%2!=0:\n",
    "            l1.append(i)\n",
    "    return l1"
   ]
  },
  {
   "cell_type": "code",
   "execution_count": 29,
   "id": "139b320f-c3d5-406d-abf4-da6678458e73",
   "metadata": {},
   "outputs": [
    {
     "data": {
      "text/plain": [
       "[1, 3, 5, 7, 9, 11, 13, 15, 17, 19, 21, 23, 25]"
      ]
     },
     "execution_count": 29,
     "metadata": {},
     "output_type": "execute_result"
    }
   ],
   "source": [
    "odd_number(1,25)"
   ]
  },
  {
   "cell_type": "markdown",
   "id": "e0eabb68-859e-47e2-9c4e-4fd0386b5325",
   "metadata": {},
   "source": [
    "<font color=\"red\">Q2. Why *args and **kwargs is used in some functions? Create a function each for *args and **kwargs \n",
    "to demonstrate their use.</font>"
   ]
  },
  {
   "cell_type": "markdown",
   "id": "56f7ed4e-1468-4940-9ef4-a42ed77523e6",
   "metadata": {},
   "source": [
    "<font color=\"yellow\">Answer :-</font>"
   ]
  },
  {
   "cell_type": "markdown",
   "id": "cb5b5149-cdfd-48f4-85b8-25ce91883427",
   "metadata": {},
   "source": [
    "<font color=\"yellow\">*args</font>"
   ]
  },
  {
   "cell_type": "markdown",
   "id": "8bbc88e6-a7e4-4fbc-a36d-3156b213c192",
   "metadata": {},
   "source": [
    "*args is used to pass any variable length argument list to a function. Here we pass the non-keyword arguments."
   ]
  },
  {
   "cell_type": "code",
   "execution_count": 16,
   "id": "45193b98-988f-4981-8d2b-2f34e7e83de6",
   "metadata": {},
   "outputs": [],
   "source": [
    "def student(*args):\n",
    "    for i in args:\n",
    "        print(i)"
   ]
  },
  {
   "cell_type": "code",
   "execution_count": 19,
   "id": "197f0d1d-de0c-4cd7-899b-6bced82bce16",
   "metadata": {},
   "outputs": [
    {
     "name": "stdout",
     "output_type": "stream",
     "text": [
      "maurya\n",
      "mayank\n",
      "english\n",
      "84\n",
      "A2\n"
     ]
    }
   ],
   "source": [
    "student(\"maurya\",\"mayank\",\"english\",84,\"A2\")"
   ]
  },
  {
   "cell_type": "code",
   "execution_count": 20,
   "id": "98beaa8d-9778-497b-92a2-0445a5258076",
   "metadata": {},
   "outputs": [
    {
     "name": "stdout",
     "output_type": "stream",
     "text": [
      "maurya\n",
      "84\n",
      "A2\n"
     ]
    }
   ],
   "source": [
    "student(\"maurya\",84,\"A2\")"
   ]
  },
  {
   "cell_type": "markdown",
   "id": "e7cf5720-7b0e-4adc-af1d-9670bbacf690",
   "metadata": {},
   "source": [
    "Here we pass multiple number of argument "
   ]
  },
  {
   "cell_type": "markdown",
   "id": "f9bdf4b2-0c46-4d69-b62a-7dd5338dd1e2",
   "metadata": {},
   "source": [
    "<font color=\"yellow\">**kwargs</font>"
   ]
  },
  {
   "cell_type": "markdown",
   "id": "b9a4aa23-a085-4f27-b138-c6ecebcadd48",
   "metadata": {},
   "source": [
    "**kwargs is used to pass any variable length keyword argument to the function. Here we pass Dictionary. "
   ]
  },
  {
   "cell_type": "code",
   "execution_count": 4,
   "id": "8e6f8bda-61bc-4e8e-88e0-43029025ac67",
   "metadata": {},
   "outputs": [],
   "source": [
    "def student1(**kwargs):\n",
    "    return kwargs"
   ]
  },
  {
   "cell_type": "code",
   "execution_count": 9,
   "id": "726e98a7-1c98-4bf1-a70a-7fddd056ca29",
   "metadata": {},
   "outputs": [
    {
     "data": {
      "text/plain": [
       "{'Fname': 'Maurya', 'Lname': 'Mayank', 'Course': 'Data Science'}"
      ]
     },
     "execution_count": 9,
     "metadata": {},
     "output_type": "execute_result"
    }
   ],
   "source": [
    "student1(Fname=\"Maurya\",Lname=\"Mayank\",Course=\"Data Science\")"
   ]
  },
  {
   "cell_type": "code",
   "execution_count": 10,
   "id": "8e13f9f1-4b07-48fa-ac57-0f9b13256381",
   "metadata": {},
   "outputs": [
    {
     "data": {
      "text/plain": [
       "{'Fname': 'Maurya'}"
      ]
     },
     "execution_count": 10,
     "metadata": {},
     "output_type": "execute_result"
    }
   ],
   "source": [
    "student1(Fname=\"Maurya\")"
   ]
  },
  {
   "cell_type": "markdown",
   "id": "52056f19-c0f3-426b-96f5-1f8504a4febf",
   "metadata": {},
   "source": [
    "Here we pass multiple number of dictionary."
   ]
  },
  {
   "cell_type": "markdown",
   "id": "1c4899c8-6d54-4801-8800-f12a986bea74",
   "metadata": {},
   "source": [
    "<font color=\"Red\">Q3.  What is an iterator in python? Name the method used to initialise the iterator object and the method \n",
    "used for iteration. Use these methods to print the first five elements of the given list [2, 4, 6, 8, 10, 12, 14, \n",
    "16, 18, 20]. </font>"
   ]
  },
  {
   "cell_type": "markdown",
   "id": "4c9f605d-27fc-4084-ad53-24dcf3199d5e",
   "metadata": {},
   "source": [
    "<font color=\"yellow\">Answer :-</font>"
   ]
  },
  {
   "cell_type": "markdown",
   "id": "e3a722b8-b4a1-4d40-b204-517e6330b916",
   "metadata": {},
   "source": [
    "An iterator in Python is an object that is used to iterate over iterable objects like lists, tuples, dicts, and sets. The Python iterators object is initialized using the iter() method. It uses the next() method for iteration."
   ]
  },
  {
   "cell_type": "code",
   "execution_count": 15,
   "id": "275d47d2-5233-486f-a80f-e7bb407e3fab",
   "metadata": {},
   "outputs": [],
   "source": [
    "l=[2,4,6,8,10,12,14,16,18,20]"
   ]
  },
  {
   "cell_type": "code",
   "execution_count": 16,
   "id": "265f4146-019e-41da-b556-09278ce7d934",
   "metadata": {},
   "outputs": [],
   "source": [
    "l1=iter(l)"
   ]
  },
  {
   "cell_type": "code",
   "execution_count": 17,
   "id": "b96b969f-c25a-45eb-a743-ff53b4dbf7fd",
   "metadata": {},
   "outputs": [
    {
     "name": "stdout",
     "output_type": "stream",
     "text": [
      "2\n",
      "4\n",
      "6\n",
      "8\n",
      "10\n"
     ]
    }
   ],
   "source": [
    "for i in range(5):\n",
    "    print(next(l1))"
   ]
  },
  {
   "cell_type": "markdown",
   "id": "21d0b9e4-f2fe-446e-90dd-725d3148b552",
   "metadata": {},
   "source": [
    "<font color=\"red\">Q4.  What is a generator function in python? Why yield keyword is used? Give an example of a generator \n",
    "function. </font>"
   ]
  },
  {
   "cell_type": "markdown",
   "id": "f674a4b5-3f03-4713-9128-507999eed9e8",
   "metadata": {},
   "source": [
    "<font color=\"yellow\">Answer :-</font>"
   ]
  },
  {
   "cell_type": "markdown",
   "id": "34687a2c-b34f-4fb7-8be4-c7f71cf237ea",
   "metadata": {},
   "source": [
    " A generator is a special type of function which does not return a single value, instead, it returns an iterator object with a sequence of values. In a generator function, a yield statement is used rather than a return statement."
   ]
  },
  {
   "cell_type": "markdown",
   "id": "b0a71bb1-d89d-472f-9eac-2e69ea430e10",
   "metadata": {},
   "source": [
    "The yield keyword is used to converts the expression given into a generator function that gives back a generator object. To get the values of the object, it has to be iterated to read the values given to the yield."
   ]
  },
  {
   "cell_type": "code",
   "execution_count": 22,
   "id": "18fb8c11-3f96-459d-87bf-b0503b75c28f",
   "metadata": {},
   "outputs": [],
   "source": [
    "def test_cube(n):\n",
    "    for i in range(1,n):\n",
    "        a=i**3\n",
    "        yield a"
   ]
  },
  {
   "cell_type": "code",
   "execution_count": 24,
   "id": "6bc0a61b-7d41-46d9-b736-aac5294dc77d",
   "metadata": {},
   "outputs": [
    {
     "data": {
      "text/plain": [
       "<generator object test_cube at 0x7f21bc64d770>"
      ]
     },
     "execution_count": 24,
     "metadata": {},
     "output_type": "execute_result"
    }
   ],
   "source": [
    "test_cube(5)"
   ]
  },
  {
   "cell_type": "code",
   "execution_count": 25,
   "id": "daba46cc-ecbb-45c1-9aaf-ec2ab348a18d",
   "metadata": {},
   "outputs": [
    {
     "name": "stdout",
     "output_type": "stream",
     "text": [
      "1\n",
      "8\n",
      "27\n",
      "64\n"
     ]
    }
   ],
   "source": [
    "for i in test_cube(5):\n",
    "    print(i)"
   ]
  },
  {
   "cell_type": "markdown",
   "id": "d8c8c0e9-be09-4447-9af0-77db9f287ea1",
   "metadata": {},
   "source": [
    "Here test_cube() is the generator function and we call it by using for loop."
   ]
  },
  {
   "cell_type": "markdown",
   "id": "87473c4b-13da-41c3-b38e-81e8801fa225",
   "metadata": {},
   "source": [
    "<font color=\"red\">Q5. Create a generator function for prime numbers less than 1000. Use the next() method to print the \n",
    "first 20 prime numbers</font>"
   ]
  },
  {
   "cell_type": "markdown",
   "id": "66434225-f59b-435a-8111-70d053fc2bcb",
   "metadata": {},
   "source": [
    "<font color=\"yellow\">Answer :- </font>"
   ]
  },
  {
   "cell_type": "code",
   "execution_count": 102,
   "id": "3b22c8e3-11b2-47ec-adf9-d75e5938ce1f",
   "metadata": {},
   "outputs": [],
   "source": [
    "def prime_numbers(n):\n",
    "    for i in range(2,n):\n",
    "        c=0\n",
    "        for j in range(1,i+1):\n",
    "            if i%j==0:\n",
    "                c+=1\n",
    "        if c==2:\n",
    "            yield i\n",
    "    "
   ]
  },
  {
   "cell_type": "code",
   "execution_count": 108,
   "id": "8ca4fce6-7140-4d87-9c99-e9f46f086320",
   "metadata": {},
   "outputs": [
    {
     "data": {
      "text/plain": [
       "<generator object prime_numbers at 0x7f21bc56d1c0>"
      ]
     },
     "execution_count": 108,
     "metadata": {},
     "output_type": "execute_result"
    }
   ],
   "source": [
    "prime_numbers(1)"
   ]
  },
  {
   "cell_type": "code",
   "execution_count": 103,
   "id": "9f4e31b3-0ab0-461d-9ed3-31d9b3625e02",
   "metadata": {},
   "outputs": [],
   "source": [
    "prime_no=prime_numbers(1000)"
   ]
  },
  {
   "cell_type": "code",
   "execution_count": 104,
   "id": "f4e55955-5ff4-4ded-b038-e8343b91fc68",
   "metadata": {},
   "outputs": [
    {
     "name": "stdout",
     "output_type": "stream",
     "text": [
      "2\n",
      "3\n",
      "5\n",
      "7\n",
      "11\n",
      "13\n",
      "17\n",
      "19\n",
      "23\n",
      "29\n",
      "31\n",
      "37\n",
      "41\n",
      "43\n",
      "47\n",
      "53\n",
      "59\n",
      "61\n",
      "67\n",
      "71\n"
     ]
    }
   ],
   "source": [
    "for i in range(20):\n",
    "    print(next(prime_no))"
   ]
  },
  {
   "cell_type": "markdown",
   "id": "b70c0d68-a45a-437b-916e-227ba73524c6",
   "metadata": {},
   "source": [
    "<font color=\"red\">Q6. Write a python program to print the first 10 Fibonacci numbers using a while loop.</font>"
   ]
  },
  {
   "cell_type": "markdown",
   "id": "3cedff53-633e-4c11-93f1-b8b4e254e7f6",
   "metadata": {},
   "source": [
    "<font color=\"yellow\">Answer :- </font>"
   ]
  },
  {
   "cell_type": "code",
   "execution_count": 119,
   "id": "cb51df77-8950-4855-a32b-533199d1cefa",
   "metadata": {},
   "outputs": [],
   "source": [
    "def fibonacci(n):\n",
    "    a,b=0,1\n",
    "    for i in range(n):\n",
    "        yield a\n",
    "        a,b=b,a+b"
   ]
  },
  {
   "cell_type": "code",
   "execution_count": 120,
   "id": "b93f4a9b-a9cd-4cce-bf36-343b9e1ee4a1",
   "metadata": {},
   "outputs": [],
   "source": [
    "fib=fibonacci(10)"
   ]
  },
  {
   "cell_type": "code",
   "execution_count": 121,
   "id": "9d48bc81-196d-40bf-b343-092d5b4fa510",
   "metadata": {},
   "outputs": [
    {
     "name": "stdout",
     "output_type": "stream",
     "text": [
      "0\n",
      "1\n",
      "1\n",
      "2\n",
      "3\n",
      "5\n",
      "8\n",
      "13\n",
      "21\n",
      "34\n"
     ]
    }
   ],
   "source": [
    "for i in fib:\n",
    "    print(i)"
   ]
  },
  {
   "cell_type": "markdown",
   "id": "c315d507-c5b7-4c67-ba4d-56c1e91bd0b7",
   "metadata": {},
   "source": [
    "<font color=\"red\">Q7. Write a List Comprehension to iterate through the given string: ‘pwskills’.\n",
    "\n",
    "Expected output: ['p', 'w', 's', 'k', 'i', 'l', 'l', 's'] </font>"
   ]
  },
  {
   "cell_type": "markdown",
   "id": "97cb5f08-617d-4187-b30d-d0f4cc755735",
   "metadata": {},
   "source": [
    "<font color=\"yellow\"> Answer :- </font>"
   ]
  },
  {
   "cell_type": "code",
   "execution_count": 2,
   "id": "2d058b3c-694f-437f-a2b6-504b987fb9c9",
   "metadata": {},
   "outputs": [],
   "source": [
    "s=\"pwskills\""
   ]
  },
  {
   "cell_type": "code",
   "execution_count": 6,
   "id": "7290e32c-7a06-4008-9db8-deadfa8710a2",
   "metadata": {},
   "outputs": [
    {
     "name": "stdout",
     "output_type": "stream",
     "text": [
      "['p', 'w', 's', 'k', 'i', 'l', 'l', 's']\n"
     ]
    }
   ],
   "source": [
    "new_string=[i for i in s]\n",
    "print(new_string)"
   ]
  },
  {
   "cell_type": "markdown",
   "id": "1a0bbbba-8f10-474b-a132-b347ed256b1f",
   "metadata": {},
   "source": [
    "<font color=\"red\">Q8. Write a python program to check whether a given number is Palindrome or not using a while loop. </font>"
   ]
  },
  {
   "cell_type": "markdown",
   "id": "8a4a806a-ff8c-4e57-8195-93e7fff59298",
   "metadata": {},
   "source": [
    "<font color=\"yellow\">Answer :-</font>"
   ]
  },
  {
   "cell_type": "code",
   "execution_count": 16,
   "id": "ce8dfcbe-929b-47ef-b2ec-14fa6b7f7394",
   "metadata": {},
   "outputs": [
    {
     "name": "stdin",
     "output_type": "stream",
     "text": [
      "Enter the number = 16461\n"
     ]
    },
    {
     "name": "stdout",
     "output_type": "stream",
     "text": [
      "16461 is a palindrome number\n"
     ]
    }
   ],
   "source": [
    "n=int(input(\"Enter the number =\"))\n",
    "n1=n\n",
    "n2=0\n",
    "while n>0:\n",
    "    n2=n2*10+n%10\n",
    "    n=n//10\n",
    "if n2==n1:\n",
    "    print(n1,\"is a palindrome number\")\n",
    "else:\n",
    "    print(n1,\"is not a palindrome number\")"
   ]
  },
  {
   "cell_type": "markdown",
   "id": "24d73686-17ad-49c6-9498-1f8a2a154267",
   "metadata": {},
   "source": [
    "<font color=\"red\">Q9. Write a code to print odd numbers from 1 to 100 using list comprehension.</font>"
   ]
  },
  {
   "cell_type": "markdown",
   "id": "e8f25feb-9b92-4307-908e-6747e315b7cc",
   "metadata": {},
   "source": [
    "<font color=\"yellow\">Answer :-</font>"
   ]
  },
  {
   "cell_type": "code",
   "execution_count": 22,
   "id": "ca9747d0-4b8a-482e-b18e-a56cf12d90a7",
   "metadata": {},
   "outputs": [],
   "source": [
    "l1=[i for i in range(1,101)]\n",
    "l2=[i for i in l1 if i%2!=0]"
   ]
  },
  {
   "cell_type": "code",
   "execution_count": 24,
   "id": "e061860d-cbda-42f6-98dd-85d660ab9852",
   "metadata": {},
   "outputs": [
    {
     "name": "stdout",
     "output_type": "stream",
     "text": [
      "[1, 3, 5, 7, 9, 11, 13, 15, 17, 19, 21, 23, 25, 27, 29, 31, 33, 35, 37, 39, 41, 43, 45, 47, 49, 51, 53, 55, 57, 59, 61, 63, 65, 67, 69, 71, 73, 75, 77, 79, 81, 83, 85, 87, 89, 91, 93, 95, 97, 99]\n"
     ]
    }
   ],
   "source": [
    "print(l2)"
   ]
  },
  {
   "cell_type": "markdown",
   "id": "02fbe575-d262-4b4a-9826-da6fa6dbb798",
   "metadata": {},
   "source": [
    "<font color=\"yellow\"> END </font>"
   ]
  },
  {
   "cell_type": "code",
   "execution_count": null,
   "id": "d08767b0-968d-4b15-bc62-0212951ad770",
   "metadata": {},
   "outputs": [],
   "source": []
  }
 ],
 "metadata": {
  "kernelspec": {
   "display_name": "Python 3 (ipykernel)",
   "language": "python",
   "name": "python3"
  },
  "language_info": {
   "codemirror_mode": {
    "name": "ipython",
    "version": 3
   },
   "file_extension": ".py",
   "mimetype": "text/x-python",
   "name": "python",
   "nbconvert_exporter": "python",
   "pygments_lexer": "ipython3",
   "version": "3.10.8"
  }
 },
 "nbformat": 4,
 "nbformat_minor": 5
}
